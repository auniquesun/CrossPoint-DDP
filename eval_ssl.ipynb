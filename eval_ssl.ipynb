{
 "cells": [
  {
   "cell_type": "code",
   "execution_count": 6,
   "id": "bb4a298f-71ef-4ef5-94b5-cfc6e35ff2d6",
   "metadata": {},
   "outputs": [],
   "source": [
    "import numpy as np\n",
    "from sklearn.svm import SVC\n",
    "\n",
    "import torch\n",
    "from torch.utils.data import DataLoader\n",
    "\n",
    "from datasets.data import *\n",
    "\n",
    "parser = argparse.ArgumentParser(description='Point Cloud Recognition')\n",
    "parser.add_argument('--num_points', type=int, default=1024,\n",
    "                    help='num of points to use')\n",
    "parser.add_argument('--emb_dims', type=int, default=1024, metavar='N',\n",
    "                    help='Dimension of embeddings')\n",
    "parser.add_argument('--rank', type=int, default=-1, help='the rank for current GPU or process, '\n",
    "                    'ususally one process per GPU')\n",
    "parser.add_argument('--k', type=int, default=15, metavar='N',\n",
    "                        help='Num of nearest neighbors to use')\n",
    "parser.add_argument('--dropout', type=float, default=0.5,\n",
    "                        help='dropout rate')\n",
    "args = parser.parse_args(\"\")"
   ]
  },
  {
   "cell_type": "code",
   "execution_count": 19,
   "id": "07e93c30",
   "metadata": {},
   "outputs": [
    {
     "data": {
      "text/plain": [
       "<All keys matched successfully>"
      ]
     },
     "execution_count": 19,
     "metadata": {},
     "output_type": "execute_result"
    }
   ],
   "source": [
    "args.rank = 0\n",
    "\n",
    "pretrained_path = 'checkpoints/crosspoint_dgcnn_cls3/models/best_model.pth'\n",
    "device = torch.device(\"cuda:%d\" % args.rank)\n",
    "pretrained_model = torch.load(pretrained_path)\n",
    "# pretrained_model are saved in DDP mode, but we test on a single GPU, \n",
    "# therefore, it is neccessary to do the following step to make key matched\n",
    "# https://discuss.pytorch.org/t/missing-keys-unexpected-keys-in-state-dict-when-loading-self-trained-model/22379\n",
    "pretrained_model = {key.replace(\"module.\", \"\"): value for key, value in pretrained_model.items()}\n",
    "\n",
    "model_self = DGCNN(args).to(device)\n",
    "model_self.load_state_dict(\n",
    "    pretrained_model\n",
    ")"
   ]
  },
  {
   "cell_type": "code",
   "execution_count": 20,
   "id": "348c3368",
   "metadata": {},
   "outputs": [
    {
     "name": "stdout",
     "output_type": "stream",
     "text": [
      " DGCNN(\n",
      "  (bn1): BatchNorm2d(64, eps=1e-05, momentum=0.1, affine=True, track_running_stats=True)\n",
      "  (bn2): BatchNorm2d(64, eps=1e-05, momentum=0.1, affine=True, track_running_stats=True)\n",
      "  (bn3): BatchNorm2d(128, eps=1e-05, momentum=0.1, affine=True, track_running_stats=True)\n",
      "  (bn4): BatchNorm2d(256, eps=1e-05, momentum=0.1, affine=True, track_running_stats=True)\n",
      "  (bn5): BatchNorm1d(1024, eps=1e-05, momentum=0.1, affine=True, track_running_stats=True)\n",
      "  (conv1): Sequential(\n",
      "    (0): Conv2d(6, 64, kernel_size=(1, 1), stride=(1, 1), bias=False)\n",
      "    (1): BatchNorm2d(64, eps=1e-05, momentum=0.1, affine=True, track_running_stats=True)\n",
      "    (2): LeakyReLU(negative_slope=0.2)\n",
      "  )\n",
      "  (conv2): Sequential(\n",
      "    (0): Conv2d(128, 64, kernel_size=(1, 1), stride=(1, 1), bias=False)\n",
      "    (1): BatchNorm2d(64, eps=1e-05, momentum=0.1, affine=True, track_running_stats=True)\n",
      "    (2): LeakyReLU(negative_slope=0.2)\n",
      "  )\n",
      "  (conv3): Sequential(\n",
      "    (0): Conv2d(128, 128, kernel_size=(1, 1), stride=(1, 1), bias=False)\n",
      "    (1): BatchNorm2d(128, eps=1e-05, momentum=0.1, affine=True, track_running_stats=True)\n",
      "    (2): LeakyReLU(negative_slope=0.2)\n",
      "  )\n",
      "  (conv4): Sequential(\n",
      "    (0): Conv2d(256, 256, kernel_size=(1, 1), stride=(1, 1), bias=False)\n",
      "    (1): BatchNorm2d(256, eps=1e-05, momentum=0.1, affine=True, track_running_stats=True)\n",
      "    (2): LeakyReLU(negative_slope=0.2)\n",
      "  )\n",
      "  (conv5): Sequential(\n",
      "    (0): Conv1d(512, 1024, kernel_size=(1,), stride=(1,), bias=False)\n",
      "    (1): BatchNorm1d(1024, eps=1e-05, momentum=0.1, affine=True, track_running_stats=True)\n",
      "    (2): LeakyReLU(negative_slope=0.2)\n",
      "  )\n",
      "  (inv_head): Sequential(\n",
      "    (0): Linear(in_features=2048, out_features=1024, bias=True)\n",
      "    (1): BatchNorm1d(1024, eps=1e-05, momentum=0.1, affine=True, track_running_stats=True)\n",
      "    (2): ReLU(inplace=True)\n",
      "    (3): Linear(in_features=1024, out_features=256, bias=True)\n",
      "  )\n",
      ")\n",
      "bn1 BatchNorm2d(64, eps=1e-05, momentum=0.1, affine=True, track_running_stats=True)\n",
      "bn2 BatchNorm2d(64, eps=1e-05, momentum=0.1, affine=True, track_running_stats=True)\n",
      "bn3 BatchNorm2d(128, eps=1e-05, momentum=0.1, affine=True, track_running_stats=True)\n",
      "bn4 BatchNorm2d(256, eps=1e-05, momentum=0.1, affine=True, track_running_stats=True)\n",
      "bn5 BatchNorm1d(1024, eps=1e-05, momentum=0.1, affine=True, track_running_stats=True)\n",
      "conv1 Sequential(\n",
      "  (0): Conv2d(6, 64, kernel_size=(1, 1), stride=(1, 1), bias=False)\n",
      "  (1): BatchNorm2d(64, eps=1e-05, momentum=0.1, affine=True, track_running_stats=True)\n",
      "  (2): LeakyReLU(negative_slope=0.2)\n",
      ")\n",
      "conv1.0 Conv2d(6, 64, kernel_size=(1, 1), stride=(1, 1), bias=False)\n",
      "conv1.2 LeakyReLU(negative_slope=0.2)\n",
      "conv2 Sequential(\n",
      "  (0): Conv2d(128, 64, kernel_size=(1, 1), stride=(1, 1), bias=False)\n",
      "  (1): BatchNorm2d(64, eps=1e-05, momentum=0.1, affine=True, track_running_stats=True)\n",
      "  (2): LeakyReLU(negative_slope=0.2)\n",
      ")\n",
      "conv2.0 Conv2d(128, 64, kernel_size=(1, 1), stride=(1, 1), bias=False)\n",
      "conv2.2 LeakyReLU(negative_slope=0.2)\n",
      "conv3 Sequential(\n",
      "  (0): Conv2d(128, 128, kernel_size=(1, 1), stride=(1, 1), bias=False)\n",
      "  (1): BatchNorm2d(128, eps=1e-05, momentum=0.1, affine=True, track_running_stats=True)\n",
      "  (2): LeakyReLU(negative_slope=0.2)\n",
      ")\n",
      "conv3.0 Conv2d(128, 128, kernel_size=(1, 1), stride=(1, 1), bias=False)\n",
      "conv3.2 LeakyReLU(negative_slope=0.2)\n",
      "conv4 Sequential(\n",
      "  (0): Conv2d(256, 256, kernel_size=(1, 1), stride=(1, 1), bias=False)\n",
      "  (1): BatchNorm2d(256, eps=1e-05, momentum=0.1, affine=True, track_running_stats=True)\n",
      "  (2): LeakyReLU(negative_slope=0.2)\n",
      ")\n",
      "conv4.0 Conv2d(256, 256, kernel_size=(1, 1), stride=(1, 1), bias=False)\n",
      "conv4.2 LeakyReLU(negative_slope=0.2)\n",
      "conv5 Sequential(\n",
      "  (0): Conv1d(512, 1024, kernel_size=(1,), stride=(1,), bias=False)\n",
      "  (1): BatchNorm1d(1024, eps=1e-05, momentum=0.1, affine=True, track_running_stats=True)\n",
      "  (2): LeakyReLU(negative_slope=0.2)\n",
      ")\n",
      "conv5.0 Conv1d(512, 1024, kernel_size=(1,), stride=(1,), bias=False)\n",
      "conv5.2 LeakyReLU(negative_slope=0.2)\n",
      "inv_head Sequential(\n",
      "  (0): Linear(in_features=2048, out_features=1024, bias=True)\n",
      "  (1): BatchNorm1d(1024, eps=1e-05, momentum=0.1, affine=True, track_running_stats=True)\n",
      "  (2): ReLU(inplace=True)\n",
      "  (3): Linear(in_features=1024, out_features=256, bias=True)\n",
      ")\n",
      "inv_head.0 Linear(in_features=2048, out_features=1024, bias=True)\n",
      "inv_head.1 BatchNorm1d(1024, eps=1e-05, momentum=0.1, affine=True, track_running_stats=True)\n",
      "inv_head.2 ReLU(inplace=True)\n",
      "inv_head.3 Linear(in_features=1024, out_features=256, bias=True)\n"
     ]
    }
   ],
   "source": [
    "for name, module in model_self.named_modules():\n",
    "    print(name, module)"
   ]
  },
  {
   "cell_type": "code",
   "execution_count": 21,
   "id": "73b4c6bd",
   "metadata": {},
   "outputs": [],
   "source": [
    "# seg_num_all = 50\n",
    "# model = DGCNN_partseg(args, seg_num_all, pretrain=False).to(device)\n",
    "# model.load_state_dict(\n",
    "#     torch.load('checkpoints/crosspoint_dgcnn_seg2/models/best_model.pth'),\n",
    "#     strict=False\n",
    "# )"
   ]
  },
  {
   "cell_type": "markdown",
   "id": "64a570cb-d50d-4231-a40e-aa565b0c6eac",
   "metadata": {},
   "source": [
    "# ModelNet40"
   ]
  },
  {
   "cell_type": "code",
   "execution_count": 36,
   "id": "9f999b8d-d3b1-43ab-8910-d4f64ae4cb19",
   "metadata": {},
   "outputs": [
    {
     "name": "stdout",
     "output_type": "stream",
     "text": [
      "Done !!\n"
     ]
    }
   ],
   "source": [
    "train_loader_1 = DataLoader(ModelNet40SVM(partition='train', num_points=args.num_points),\n",
    "                              batch_size=128, shuffle=True)\n",
    "test_loader_1 = DataLoader(ModelNet40SVM(partition='test', num_points=args.num_points),\n",
    "                              batch_size=128, shuffle=True)\n",
    "print('Done !!')"
   ]
  },
  {
   "cell_type": "markdown",
   "id": "04c7743b-f0f9-4bcb-81e4-f8da2cf585ba",
   "metadata": {},
   "source": [
    "# ScanObjectNN"
   ]
  },
  {
   "cell_type": "code",
   "execution_count": 37,
   "id": "9d0dc924-2763-450d-b9b9-bcb171802f42",
   "metadata": {},
   "outputs": [
    {
     "name": "stdout",
     "output_type": "stream",
     "text": [
      "Done !!\n"
     ]
    }
   ],
   "source": [
    "train_loader_2 = DataLoader(ScanObjectNNSVM(partition='train', num_points=args.num_points),\n",
    "                              batch_size=64, shuffle=True)\n",
    "test_loader_2 = DataLoader(ScanObjectNNSVM(partition='test', num_points=args.num_points),\n",
    "                              batch_size=64, shuffle=True)\n",
    "print('Done !!')"
   ]
  },
  {
   "cell_type": "markdown",
   "id": "706ee9d8-6a97-452e-9987-8042eae5b90f",
   "metadata": {},
   "source": [
    "# Load ModelNet Train Feats"
   ]
  },
  {
   "cell_type": "code",
   "execution_count": 38,
   "id": "89241966-45c3-45ec-a6d0-94e40cb8e0dd",
   "metadata": {},
   "outputs": [
    {
     "name": "stdout",
     "output_type": "stream",
     "text": [
      "(9840, 2048)\n",
      "(9840,)\n"
     ]
    }
   ],
   "source": [
    "import random\n",
    "\n",
    "feats_train_1 = []\n",
    "labels_train_1 = []\n",
    "model = model_self.to(device)\n",
    "model = model.eval()\n",
    "\n",
    "dataset = \"ModelNet40\" # Choose Dataset [\"ModelNet40, ScanObjectNN\"]\n",
    "\n",
    "for i, (data, label) in enumerate(train_loader_1):\n",
    "    if dataset == \"ModelNet40\":\n",
    "        labels = list(map(lambda x: x[0],label.numpy().tolist()))\n",
    "    elif dataset == \"ScanObjectNN\":\n",
    "        labels = label.numpy().tolist()\n",
    "    data = data.permute(0, 2, 1).to(device)\n",
    "    with torch.no_grad():\n",
    "        feats = model(data)[1]\n",
    "    feats = feats.detach().cpu().numpy()\n",
    "    for feat in feats:\n",
    "        feats_train_1.append(feat)\n",
    "    labels_train_1 += labels\n",
    "\n",
    "feats_train_1 = np.array(feats_train_1)\n",
    "labels_train_1 = np.array(labels_train_1)\n",
    "print(feats_train_1.shape)\n",
    "print(labels_train_1.shape)"
   ]
  },
  {
   "cell_type": "markdown",
   "id": "048233c6",
   "metadata": {},
   "source": [
    "# Load ScanOjbectNN Train Feats"
   ]
  },
  {
   "cell_type": "code",
   "execution_count": 39,
   "id": "8f71ec5d",
   "metadata": {},
   "outputs": [
    {
     "name": "stdout",
     "output_type": "stream",
     "text": [
      "(2309, 2048)\n",
      "(2309,)\n"
     ]
    }
   ],
   "source": [
    "import random\n",
    "\n",
    "feats_train_2 = []\n",
    "labels_train_2 = []\n",
    "model = model_self.to(device)\n",
    "model = model.eval()\n",
    "\n",
    "dataset = \"ScanObjectNN\" # Choose Dataset [\"ModelNet40, ScanObjectNN\"]\n",
    "\n",
    "for i, (data, label) in enumerate(train_loader_2):\n",
    "    if dataset == \"ModelNet40\":\n",
    "        labels = list(map(lambda x: x[0],label.numpy().tolist()))\n",
    "    elif dataset == \"ScanObjectNN\":\n",
    "        labels = label.numpy().tolist()\n",
    "    data = data.permute(0, 2, 1).to(device)\n",
    "    with torch.no_grad():\n",
    "        feats = model(data)[1]\n",
    "    feats = feats.detach().cpu().numpy()\n",
    "    for feat in feats:\n",
    "        feats_train_2.append(feat)\n",
    "    labels_train_2 += labels\n",
    "\n",
    "feats_train_2 = np.array(feats_train_2)\n",
    "labels_train_2 = np.array(labels_train_2)\n",
    "print(feats_train_2.shape)\n",
    "print(labels_train_2.shape)"
   ]
  },
  {
   "cell_type": "markdown",
   "id": "84930173-3beb-4ed2-9efa-5a343f128df3",
   "metadata": {},
   "source": [
    "# Load ModelNet Test Feats"
   ]
  },
  {
   "cell_type": "code",
   "execution_count": 40,
   "id": "8d1045cc-2a11-41b9-8a6c-b2851fa2c685",
   "metadata": {},
   "outputs": [
    {
     "name": "stdout",
     "output_type": "stream",
     "text": [
      "(2468, 2048)\n",
      "(2468, 1)\n"
     ]
    }
   ],
   "source": [
    "import random\n",
    "\n",
    "feats_test_1 = []\n",
    "labels_test_1 = []\n",
    "model = model_self.to(device)\n",
    "model = model.eval()\n",
    "\n",
    "for i, (data, label) in enumerate(test_loader_1):\n",
    "    if dataset == \"ModelNet40\":\n",
    "        labels = list(map(lambda x: x[0],label.numpy().tolist()))\n",
    "    elif dataset == \"ScanObjectNN\":\n",
    "        labels = label.numpy().tolist()\n",
    "    data = data.permute(0, 2, 1).to(device)\n",
    "    with torch.no_grad():\n",
    "        feats = model(data)[1]\n",
    "    feats = feats.detach().cpu().numpy()\n",
    "    for feat in feats:\n",
    "        feats_test_1.append(feat)\n",
    "    labels_test_1 += labels\n",
    "\n",
    "feats_test_1 = np.array(feats_test_1)\n",
    "labels_test_1 = np.array(labels_test_1)\n",
    "print(feats_test_1.shape)\n",
    "print(labels_test_1.shape)"
   ]
  },
  {
   "cell_type": "markdown",
   "id": "999608d4",
   "metadata": {},
   "source": [
    "# Load ScanObjectNN Test Feats"
   ]
  },
  {
   "cell_type": "code",
   "execution_count": 41,
   "id": "de6d78d7",
   "metadata": {},
   "outputs": [
    {
     "name": "stdout",
     "output_type": "stream",
     "text": [
      "(581, 2048)\n",
      "(581,)\n"
     ]
    }
   ],
   "source": [
    "import random\n",
    "\n",
    "feats_test_2 = []\n",
    "labels_test_2 = []\n",
    "model = model_self.to(device)\n",
    "model = model.eval()\n",
    "\n",
    "for i, (data, label) in enumerate(test_loader_2):\n",
    "    if dataset == \"ModelNet40\":\n",
    "        labels = list(map(lambda x: x[0],label.numpy().tolist()))\n",
    "    elif dataset == \"ScanObjectNN\":\n",
    "        labels = label.numpy().tolist()\n",
    "    data = data.permute(0, 2, 1).to(device)\n",
    "    with torch.no_grad():\n",
    "        feats = model(data)[1]\n",
    "    feats = feats.detach().cpu().numpy()\n",
    "    for feat in feats:\n",
    "        feats_test_2.append(feat)\n",
    "    labels_test_2 += labels\n",
    "\n",
    "feats_test_2 = np.array(feats_test_2)\n",
    "labels_test_2 = np.array(labels_test_2)\n",
    "print(feats_test_2.shape)\n",
    "print(labels_test_2.shape)"
   ]
  },
  {
   "cell_type": "markdown",
   "id": "33a1abab-94a9-42b2-ad9b-427acfcf12c3",
   "metadata": {
    "tags": []
   },
   "source": [
    "# Train Linear Model on ModelNet"
   ]
  },
  {
   "cell_type": "code",
   "execution_count": 48,
   "id": "b830ca46-9842-44bb-b703-90300f766463",
   "metadata": {},
   "outputs": [
    {
     "name": "stdout",
     "output_type": "stream",
     "text": [
      "C = 10 : 0.8865478119935171\n"
     ]
    }
   ],
   "source": [
    "# Linear SVM regularization parameter C, can be tuned\n",
    "# The strength of the regularization is inversely proportional to C\n",
    "c = 10\n",
    "model_tl_1 = SVC(C = c, kernel ='linear')\n",
    "model_tl_1.fit(feats_train_1, labels_train_1)\n",
    "print(f\"C = {c} : {model_tl_1.score(feats_test_1, labels_test_1)}\")"
   ]
  },
  {
   "cell_type": "markdown",
   "id": "18e246c0",
   "metadata": {},
   "source": [
    "# Train Linear Model on ScanObjectNN"
   ]
  },
  {
   "cell_type": "code",
   "execution_count": 47,
   "id": "18e246c0",
   "metadata": {},
   "outputs": [
    {
     "name": "stdout",
     "output_type": "stream",
     "text": [
      "C = 100 : 0.7418244406196214\n"
     ]
    }
   ],
   "source": [
    "# Linear SVM regularization parameter C, can be tuned\n",
    "# The strength of the regularization is inversely proportional to C\n",
    "c = 100\n",
    "model_tl_2 = SVC(C = c, kernel ='linear')\n",
    "model_tl_2.fit(feats_train_2, labels_train_2)\n",
    "print(f\"C = {c} : {model_tl_2.score(feats_test_2, labels_test_2)}\")"
   ]
  },
  {
   "cell_type": "code",
   "execution_count": null,
   "id": "389250e0-9c3b-4524-a438-0c8754c3ae2e",
   "metadata": {},
   "outputs": [],
   "source": [
    "# Results:\n",
    "# ModelNet40   -> C = 10000 : 0.8731766612641815\n",
    "    # C = 0.01 : 0.8861426256077796\n",
    "    # C = 0.1 : 0.8942463533225283\n",
    "    # C = 1 : 0.8869529983792545\n",
    "    # C = 10 : 0.8865478119935171\n",
    "    # C = 100 : 0.8865478119935171\n",
    "# ScanOjbectNN -> C = 10000 : 0.648881239242685\n",
    "    # C = 100 : 0.7418244406196214\n",
    "    # C = 10 : 0.7418244406196214\n",
    "    # C = 1 : 0.7418244406196214\n",
    "    # C = 0.1 : 0.7573149741824441\n",
    "    # C = 0.01 : 0.7314974182444062"
   ]
  },
  {
   "cell_type": "markdown",
   "id": "a62f9f3e",
   "metadata": {},
   "source": [
    "### t-SNE visualization"
   ]
  },
  {
   "cell_type": "code",
   "execution_count": 15,
   "id": "f3ec6d69",
   "metadata": {},
   "outputs": [],
   "source": [
    "import torch as t\n",
    "from sklearn.manifold import TSNE\n",
    "\n",
    "X = t.randn(1024, 256).numpy()\n",
    "X_embedded = TSNE(n_components=2, learning_rate='auto', init='random').fit_transform(X)"
   ]
  },
  {
   "cell_type": "code",
   "execution_count": 16,
   "id": "2a11e293",
   "metadata": {},
   "outputs": [
    {
     "data": {
      "text/plain": [
       "(1024, 2)"
      ]
     },
     "execution_count": 16,
     "metadata": {},
     "output_type": "execute_result"
    }
   ],
   "source": [
    "X_embedded.shape"
   ]
  },
  {
   "cell_type": "code",
   "execution_count": 20,
   "id": "4f73c66b",
   "metadata": {},
   "outputs": [
    {
     "data": {
      "text/plain": [
       "[Text(0.5, 1.0, 'Random data T-SNE projection')]"
      ]
     },
     "execution_count": 20,
     "metadata": {},
     "output_type": "execute_result"
    },
    {
     "data": {
      "image/png": "[encoded data removed]",
      "text/plain": [
       "<Figure size 432x288 with 1 Axes>"
      ]
     },
     "metadata": {
      "needs_background": "light"
     },
     "output_type": "display_data"
    }
   ],
   "source": [
    "import pandas as pd\n",
    "import seaborn as sns\n",
    "\n",
    "df = pd.DataFrame()\n",
    "# \"y\" represents the number of samples\n",
    "df[\"y\"] = t.randint(0, 10, (1024,)).numpy()\n",
    "df[\"axis-0\"] = X_embedded[:,0]\n",
    "df[\"axis-1\"] = X_embedded[:,1]\n",
    "\n",
    "sns.scatterplot(x=\"axis-0\", y=\"axis-1\", hue=df.y.tolist(),\n",
    "                palette=sns.color_palette(\"hls\", 10),\n",
    "                data=df).set(title=\"Random data T-SNE projection\")"
   ]
  },
  {
   "cell_type": "code",
   "execution_count": null,
   "id": "d46f8eb0",
   "metadata": {},
   "outputs": [],
   "source": []
  }
 ],
 "metadata": {
  "kernelspec": {
   "display_name": "Python 3.7.11 ('openmmlab')",
   "language": "python",
   "name": "python3"
  },
  "language_info": {
   "codemirror_mode": {
    "name": "ipython",
    "version": 3
   },
   "file_extension": ".py",
   "mimetype": "text/x-python",
   "name": "python",
   "nbconvert_exporter": "python",
   "pygments_lexer": "ipython3",
   "version": "3.7.11"
  },
  "vscode": {
   "interpreter": {
    "hash": "f68ce9b417a78f20e8880863393c827c17e54e6007d948862801bda34d4ba669"
   }
  }
 },
 "nbformat": 4,
 "nbformat_minor": 5
}
